{
 "cells": [
  {
   "cell_type": "code",
   "execution_count": 42,
   "metadata": {},
   "outputs": [
    {
     "name": "stdout",
     "output_type": "stream",
     "text": [
      "6 x 5 = 5 + 5 + 5 + 5 + 5 + 5 = 30\n"
     ]
    }
   ],
   "source": [
    "def perkalian_dengan_penjumlahan():\n",
    "    angka1 = int(input(\"Masukkan angka pertama: \"))\n",
    "    angka2 = int(input(\"Masukkan angka kedua: \"))\n",
    "\n",
    "    hasil_perkalian = 0\n",
    "    for _ in range(angka1):\n",
    "        hasil_perkalian += angka2\n",
    "\n",
    "    print(f\"{angka1} x {angka2} =\", end=\" \")\n",
    "    for i in range(angka1):\n",
    "        print(angka2, end=\"\")\n",
    "        if i < angka1 - 1:\n",
    "            print(\" + \", end=\"\")\n",
    "        else:\n",
    "            print(f\" = {hasil_perkalian}\")\n",
    "\n",
    "\n",
    "perkalian_dengan_penjumlahan()"
   ]
  },
  {
   "cell_type": "code",
   "execution_count": 2,
   "metadata": {},
   "outputs": [
    {
     "name": "stdout",
     "output_type": "stream",
     "text": [
      "Deret bilangan ganjil:\n",
      "11 13 15 17 19 21 23 25 27 29 "
     ]
    }
   ],
   "source": [
    "def ganjil(bawah, atas):\n",
    "    if bawah < atas:\n",
    "        for i in range(bawah, atas + 1):\n",
    "            if i % 2 != 0:\n",
    "                print(i, end=' ')\n",
    "    else:\n",
    "        for i in range(bawah, atas - 1, -1):\n",
    "            if i % 2 != 0:\n",
    "                print(i, end=' ')\n",
    "\n",
    "bawah = int(input(\"Masukkan batas bawah: \"))\n",
    "atas = int(input(\"Masukkan batas atas: \"))\n",
    "\n",
    "print(\"Deret bilangan ganjil:\")\n",
    "ganjil(bawah, atas)\n"
   ]
  },
  {
   "cell_type": "code",
   "execution_count": 3,
   "metadata": {},
   "outputs": [
    {
     "name": "stdout",
     "output_type": "stream",
     "text": [
      "Nilai IPS Anda semester ini: 2.67\n"
     ]
    }
   ],
   "source": [
    "def hitung_ips(jumlah_mata_kuliah):\n",
    "    total_sks = jumlah_mata_kuliah * 3\n",
    "    total_bobot = 0\n",
    "\n",
    "    for i in range(1, jumlah_mata_kuliah + 1):\n",
    "        nilai = input(f'Nilai MK {i} : ')\n",
    "\n",
    "        if nilai == 'A':\n",
    "            bobot = 4\n",
    "        elif nilai == 'B':\n",
    "            bobot = 3\n",
    "        elif nilai == 'C':\n",
    "            bobot = 2\n",
    "        elif nilai == 'D':\n",
    "            bobot = 1\n",
    "        else:\n",
    "            print('Nilai tidak valid. Mohon input A, B, C, atau D.')\n",
    "            return\n",
    "\n",
    "        total_bobot += bobot * 3\n",
    "\n",
    "    ips = total_bobot / total_sks\n",
    "    return ips\n",
    "\n",
    "jumlah_mata_kuliah = int(input('Berapa jumlah mata kuliah? '))\n",
    "\n",
    "hasil_ips = hitung_ips(jumlah_mata_kuliah)\n",
    "\n",
    "print(f'Nilai IPS Anda semester ini: {hasil_ips:.2f}')\n"
   ]
  }
 ],
 "metadata": {
  "kernelspec": {
   "display_name": "Python 3",
   "language": "python",
   "name": "python3"
  },
  "language_info": {
   "codemirror_mode": {
    "name": "ipython",
    "version": 3
   },
   "file_extension": ".py",
   "mimetype": "text/x-python",
   "name": "python",
   "nbconvert_exporter": "python",
   "pygments_lexer": "ipython3",
   "version": "3.12.2"
  }
 },
 "nbformat": 4,
 "nbformat_minor": 2
}
